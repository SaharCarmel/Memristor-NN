{
 "cells": [
  {
   "cell_type": "code",
   "execution_count": 1,
   "metadata": {},
   "outputs": [
    {
     "name": "stdout",
     "output_type": "stream",
     "text": [
      "base_net(\n",
      "  (fc): Linear(in_features=4, out_features=3, bias=True)\n",
      ")\n"
     ]
    }
   ],
   "source": [
    "import torch\n",
    "import numpy as np\n",
    "from torch.autograd import Variable\n",
    "from sklearn.datasets import load_iris\n",
    "import torch.nn as nn\n",
    "import torch.nn.functional as F\n",
    "import torch.optim as optim\n",
    "from matplotlib import pyplot as plt\n",
    "import nn_modules\n",
    "\n",
    "def to_categorical(y, num_classes):\n",
    "    \"\"\" 1-hot encodes a tensor \"\"\"\n",
    "    return np.eye(num_classes, dtype='uint8')[y]\n",
    "\n",
    "#batch size\n",
    "batch_size=10\n",
    "\n",
    "#loading iris data from sklearn\n",
    "iris = load_iris()\n",
    "r = torch.randperm(len(iris.data))\n",
    "p = int(np.ceil(len(iris.data)*0.1))\n",
    "\n",
    "x_train=iris.data[r[p:]]\n",
    "x_test=iris.data[r[:p]]\n",
    "y_train=iris.target[r[p:]]\n",
    "y_test=iris.target[r[:p]]\n",
    "\n",
    "#one hot encoding\n",
    "#y_data = to_categorical(y_data,3)\n",
    "\n",
    "#numpy to pytorch variable\n",
    "x_train = Variable(torch.from_numpy(x_train)).double()\n",
    "y_train = Variable(torch.from_numpy(y_train)).long()\n",
    "x_test = Variable(torch.from_numpy(x_test)).double()\n",
    "y_test = Variable(torch.from_numpy(y_test)).long()\n",
    "\n",
    "\n",
    "        \n",
    "\n",
    "model = nn_modules.base_net().double()\n",
    "\n",
    "#model summary\n",
    "print(model)\n",
    "\n",
    "#binary cross entropy loss\n",
    "criterion = nn.CrossEntropyLoss()\n",
    "#optimizer = optim.SGD(model.parameters(), lr=0.001, momentum=0.9)\n",
    "\n",
    "permutation = torch.randperm(x_train.size()[0])\n",
    "\n",
    "all_train_loss = list()\n",
    "all_train_classif = list()\n",
    "all_test_classif = list()\n",
    "#training\n",
    "for epoch in range(100):\n",
    "    #print (\"Epoch: \"+str(epoch))\n",
    "    for i in range(0,x_train.size()[0],batch_size):\n",
    "        #print (\"batch: \"+str(i))\n",
    "        indices = permutation[i:i+batch_size]\n",
    "        inputs, labels = x_train[indices], y_train[indices]\n",
    "        outputs = model(inputs)\n",
    "\n",
    "        loss=criterion(outputs,labels)\n",
    "        #print(epoch, loss.data)\n",
    "        \n",
    "        model.zero_grad()\n",
    "        loss.backward()\n",
    "        model.fc.weight.data -= 0.005*model.fc.weight.grad\n",
    "        #model.fc.weight.data -= 0.005*np.sign(model.fc.weight.grad)\n",
    "        all_train_loss.append(loss.item())\n",
    "\n",
    "        allout = model(x_train)\n",
    "        _, predicted = torch.max(allout.data, 1)\n",
    "        all_train_classif.append((predicted == y_train).sum().item()/y_train.size(0))\n",
    "        \n",
    "        allout = model(x_test)\n",
    "        _, predicted = torch.max(allout.data, 1)\n",
    "        all_test_classif.append((predicted == y_test).sum().item()/y_test.size(0))\n",
    "        "
   ]
  },
  {
   "cell_type": "code",
   "execution_count": 2,
   "metadata": {},
   "outputs": [
    {
     "name": "stderr",
     "output_type": "stream",
     "text": [
      "C:\\ProgramData\\Anaconda3\\lib\\site-packages\\scipy\\signal\\_arraytools.py:45: FutureWarning: Using a non-tuple sequence for multidimensional indexing is deprecated; use `arr[tuple(seq)]` instead of `arr[seq]`. In the future this will be interpreted as an array index, `arr[np.array(seq)]`, which will result either in an error or a different result.\n",
      "  b = a[a_slice]\n",
      "C:\\ProgramData\\Anaconda3\\lib\\site-packages\\scipy\\signal\\signaltools.py:1341: FutureWarning: Using a non-tuple sequence for multidimensional indexing is deprecated; use `arr[tuple(seq)]` instead of `arr[seq]`. In the future this will be interpreted as an array index, `arr[np.array(seq)]`, which will result either in an error or a different result.\n",
      "  out_full[ind] += zi\n",
      "C:\\ProgramData\\Anaconda3\\lib\\site-packages\\scipy\\signal\\signaltools.py:1344: FutureWarning: Using a non-tuple sequence for multidimensional indexing is deprecated; use `arr[tuple(seq)]` instead of `arr[seq]`. In the future this will be interpreted as an array index, `arr[np.array(seq)]`, which will result either in an error or a different result.\n",
      "  out = out_full[ind]\n",
      "C:\\ProgramData\\Anaconda3\\lib\\site-packages\\scipy\\signal\\signaltools.py:1350: FutureWarning: Using a non-tuple sequence for multidimensional indexing is deprecated; use `arr[tuple(seq)]` instead of `arr[seq]`. In the future this will be interpreted as an array index, `arr[np.array(seq)]`, which will result either in an error or a different result.\n",
      "  zf = out_full[ind]\n"
     ]
    },
    {
     "data": {
      "text/plain": [
       "[<matplotlib.lines.Line2D at 0x15a41fc8710>]"
      ]
     },
     "execution_count": 2,
     "metadata": {},
     "output_type": "execute_result"
    },
    {
     "data": {
      "image/png": "[encoded data removed]",
      "text/plain": [
       "<Figure size 432x288 with 1 Axes>"
      ]
     },
     "metadata": {
      "needs_background": "light"
     },
     "output_type": "display_data"
    }
   ],
   "source": [
    "from scipy import signal\n",
    "N=31\n",
    "plt.plot(signal.filtfilt(np.ones([N])/N,1,all_train_classif))\n",
    "plt.plot(signal.filtfilt(np.ones([N])/N,1,all_test_classif))"
   ]
  },
  {
   "cell_type": "code",
   "execution_count": null,
   "metadata": {},
   "outputs": [],
   "source": []
  }
 ],
 "metadata": {
  "kernelspec": {
   "display_name": "Python 3",
   "language": "python",
   "name": "python3"
  },
  "language_info": {
   "codemirror_mode": {
    "name": "ipython",
    "version": 3
   },
   "file_extension": ".py",
   "mimetype": "text/x-python",
   "name": "python",
   "nbconvert_exporter": "python",
   "pygments_lexer": "ipython3",
   "version": "3.7.1"
  }
 },
 "nbformat": 4,
 "nbformat_minor": 2
}
