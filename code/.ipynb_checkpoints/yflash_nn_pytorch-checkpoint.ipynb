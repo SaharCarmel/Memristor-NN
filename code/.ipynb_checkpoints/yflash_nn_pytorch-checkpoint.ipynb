{
 "cells": [
  {
   "cell_type": "code",
   "execution_count": 1,
   "metadata": {},
   "outputs": [],
   "source": [
    "import torch\n",
    "import torch.nn as nn\n",
    "import torch.nn.functional as F\n",
    "from torch.autograd import Variable\n",
    "from sklearn.datasets import load_iris\n",
    "import numpy as np\n",
    "\n",
    "batch_size=10\n",
    "\n",
    "def to_categorical(y, num_classes):\n",
    "    \"\"\" 1-hot encodes a tensor \"\"\"\n",
    "    return np.eye(num_classes, dtype='uint8')[y]\n",
    "\n",
    "iris = load_iris()\n",
    "x_data=iris.data\n",
    "y_data=iris.target\n",
    "\n",
    "#one hot encoding\n",
    "y_data = to_categorical(y_data,3)\n",
    "\n",
    "#numpy to pytorch variable\n",
    "x_data = Variable(torch.from_numpy(x_data))\n",
    "y_data = Variable(torch.from_numpy(y_data))\n",
    "\n",
    "class Net(nn.Module):\n",
    "    def __init__(self):\n",
    "        super(Net, self).__init__()\n",
    "        self.fc = nn.Linear(4, 3)\n",
    "\n",
    "    def forward(self, x):\n",
    "        x = self.fc(x)\n",
    "        #x = F.softmax(self.fc(x),0)\n",
    "        return x\n",
    "\n",
    "\n",
    "model = Net().double()"
   ]
  },
  {
   "cell_type": "code",
   "execution_count": null,
   "metadata": {},
   "outputs": [],
   "source": []
  }
 ],
 "metadata": {
  "kernelspec": {
   "display_name": "Python 3",
   "language": "python",
   "name": "python3"
  },
  "language_info": {
   "codemirror_mode": {
    "name": "ipython",
    "version": 3
   },
   "file_extension": ".py",
   "mimetype": "text/x-python",
   "name": "python",
   "nbconvert_exporter": "python",
   "pygments_lexer": "ipython3",
   "version": "3.7.1"
  }
 },
 "nbformat": 4,
 "nbformat_minor": 2
}
